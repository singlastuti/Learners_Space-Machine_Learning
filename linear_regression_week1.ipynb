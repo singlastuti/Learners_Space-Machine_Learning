{
  "cells": [
    {
      "cell_type": "code",
      "execution_count": 1,
      "metadata": {
        "id": "-zTLHrFCT6KY"
      },
      "outputs": [],
      "source": [
        "import numpy as np\n",
        "import pandas as pd\n",
        "import matplotlib.pyplot as plt\n",
        "\n",
        "# Aim is to predict the marks of students of the test data"
      ]
    },
    {
      "cell_type": "code",
      "execution_count": 2,
      "metadata": {
        "id": "p0KHq8ZgTpU4"
      },
      "outputs": [],
      "source": [
        "# Use the file namd 'training data' to train the model\n",
        "\n",
        "data = pd.read_excel(r\"E:\\Learner's Space\\ML\\Training data.xlsx\")\n",
        "x_train = np.array(data.iloc[:,0:8])\n",
        "y_train = np.array(data.iloc[:,8]).reshape(-1,1)\n",
        "\n",
        "# Try plotting y_train with different features\n",
        "# To get an idea whether to add some features or not\n",
        "# Add some features if required in x_train\n",
        "\n",
        "# Also do label encoding for features not represented in numbers\n",
        "# refer the link if not know : https://youtu.be/589nCGeWG1w?si=t2Wa7LgbUOO4RooM\n",
        "\n",
        "def feature_changing(x_train):\n",
        "  for i in x_train:\n",
        "    if i[0]=='yes':\n",
        "        i[0]=1\n",
        "    else:\n",
        "        i[0]=0\n",
        "\n",
        "  for i in x_train:\n",
        "    if i[1]=='F':\n",
        "        i[1]=1\n",
        "    else:\n",
        "        i[1]=0\n",
        "  return x_train\n",
        "\n",
        "x_train = feature_changing(x_train)"
      ]
    },
    {
      "cell_type": "code",
      "execution_count": 14,
      "metadata": {
        "id": "tYshvtYlVour"
      },
      "outputs": [],
      "source": [
        "def z_score(x_train):\n",
        "\n",
        "  x_std=np.std(x_train)\n",
        "  x_mean= np.mean(x_train)\n",
        "\n",
        "  #feature scaling:\n",
        "  x_train= (x_train-x_mean)/x_std\n",
        "\n",
        "\n",
        "  return x_train,x_std,x_mean"
      ]
    },
    {
      "cell_type": "code",
      "execution_count": 15,
      "metadata": {},
      "outputs": [
        {
          "data": {
            "text/plain": [
              "(1000, 8)"
            ]
          },
          "execution_count": 15,
          "metadata": {},
          "output_type": "execute_result"
        }
      ],
      "source": [
        "x_train.shape"
      ]
    },
    {
      "cell_type": "code",
      "execution_count": 16,
      "metadata": {
        "id": "O5dOwbNbWJWa"
      },
      "outputs": [],
      "source": [
        "def cost(x_train,y_train,w,b):\n",
        "  (n,m)=x_train.shape\n",
        "  loss=0\n",
        "  f_x=0\n",
        "# Have to divide cost by 2n for mean\n",
        "  for i in range(n):\n",
        "    f_x= np.dot((w)[:,0],(x_train[i]))+b  \n",
        "    loss+= 1/(2*n)*(f_x-y_train[i])**2\n",
        "  return loss"
      ]
    },
    {
      "cell_type": "code",
      "execution_count": 17,
      "metadata": {
        "id": "hW8p2cTNU74W"
      },
      "outputs": [],
      "source": [
        "def gradient_descent(x_train,y_train,w,b):\n",
        "    alpha=0.003 ##Learning Rate\n",
        "    grad_w=grad_b=f_x=0\n",
        "    (n,m)=x_train.shape\n",
        "    for i in range(n):\n",
        "      f_x= np.dot((w)[:,0],(x_train[i]))+b\n",
        "      grad_w+= 1/(n)*((x_train[i])*(f_x-y_train[i]))\n",
        "      grad_b+= 1/(n)*(f_x-y_train[i])\n",
        "    temp_w= w- alpha*grad_w.reshape(8,1)\n",
        "    temp_b= b- alpha*grad_b\n",
        "    w=temp_w\n",
        "    # print(grad_w.shape)\n",
        "    b=temp_b\n",
        "\n",
        "    return w,b"
      ]
    },
    {
      "cell_type": "code",
      "execution_count": 20,
      "metadata": {},
      "outputs": [
        {
          "data": {
            "image/png": "[encoded data removed]",
            "text/plain": [
              "<Figure size 640x480 with 1 Axes>"
            ]
          },
          "metadata": {},
          "output_type": "display_data"
        },
        {
          "name": "stdout",
          "output_type": "stream",
          "text": [
            "[0.0001]\n"
          ]
        }
      ],
      "source": [
        "x_train = x_train.astype(np.float64)\n",
        "x_train,x_std,x_mean = z_score(x_train)\n",
        "\n",
        "np.random.seed(2147483647)\n",
        "w = np.random.randn(x_train.shape[1],1)\n",
        "b = np.random.randn(1)\n",
        "\n",
        "\n",
        "old_cost = 0\n",
        "cost_values = []  # List to store cost values\n",
        "iteration = 0  # Iteration counter\n",
        "# for i in range(1000):\n",
        "# Training loop\n",
        "while abs(old_cost - cost(x_train, y_train, w, b)) > 0.0001:\n",
        "    old_cost = cost(x_train, y_train, w, b)\n",
        "    cost_values.append(old_cost)\n",
        "    w, b = gradient_descent(x_train, y_train, w, b)\n",
        "    iteration += 1\n",
        "\n",
        "# Plotting cost vs iteration\n",
        "plt.plot(cost_values)\n",
        "plt.xlabel('Iteration')\n",
        "plt.ylabel('Cost')\n",
        "plt.title('Cost vs Iteration')\n",
        "plt.show()\n",
        "\n",
        "print(cost_values[-2]-cost_values[-1])"
      ]
    },
    {
      "cell_type": "code",
      "execution_count": 22,
      "metadata": {},
      "outputs": [
        {
          "name": "stdout",
          "output_type": "stream",
          "text": [
            "Optimization required, your accuracy is 11.0%\n"
          ]
        }
      ],
      "source": [
        "x_predict = pd.read_excel('Test data.xlsx').iloc[:,:8].to_numpy()\n",
        "x_predict = feature_changing(x_predict)\n",
        "x_predict,x_std,x_mean = z_score(x_predict)\n",
        "ans = pd.read_excel('Test data.xlsx').iloc[:,8].to_numpy()\n",
        "\n",
        "\n",
        "y_predict= np.dot((x_predict),(w)[:,0])+b\n",
        "\n",
        "accuracy = 0\n",
        "for dim in range(len(ans)):\n",
        "\n",
        "  if abs(y_predict[dim]-ans[dim])<0.5: # do not change the tolerance as you'll be checked on +- 0.5 error only\n",
        "    accuracy += 1\n",
        "accuracy = round(accuracy*100/200.0,2)\n",
        "ok = 'Congratulations' if accuracy>95 else 'Optimization required'\n",
        "print(f\"{ok}, your accuracy is {accuracy}%\")"
      ]
    },
    {
      "cell_type": "code",
      "execution_count": 29,
      "metadata": {},
      "outputs": [
        {
          "data": {
            "text/plain": [
              "array([[ 1.62868095],\n",
              "       [-1.10832242],\n",
              "       [ 1.39316669],\n",
              "       [ 0.68853727],\n",
              "       [-1.17344828],\n",
              "       [-0.17520816],\n",
              "       [-1.07888427],\n",
              "       [ 0.08735764]])"
            ]
          },
          "execution_count": 29,
          "metadata": {},
          "output_type": "execute_result"
        }
      ],
      "source": [
        "\n"
      ]
    },
    {
      "cell_type": "code",
      "execution_count": null,
      "metadata": {},
      "outputs": [],
      "source": []
    }
  ],
  "metadata": {
    "colab": {
      "provenance": []
    },
    "kernelspec": {
      "display_name": "Python 3",
      "name": "python3"
    },
    "language_info": {
      "codemirror_mode": {
        "name": "ipython",
        "version": 3
      },
      "file_extension": ".py",
      "mimetype": "text/x-python",
      "name": "python",
      "nbconvert_exporter": "python",
      "pygments_lexer": "ipython3",
      "version": "3.12.4"
    }
  },
  "nbformat": 4,
  "nbformat_minor": 0
}
